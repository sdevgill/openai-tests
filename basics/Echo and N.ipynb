{
 "cells": [
  {
   "cell_type": "code",
   "execution_count": 1,
   "id": "39d7ac80",
   "metadata": {
    "tags": []
   },
   "outputs": [],
   "source": [
    "import openai"
   ]
  },
  {
   "cell_type": "code",
   "execution_count": 2,
   "id": "96de38cc",
   "metadata": {
    "tags": []
   },
   "outputs": [],
   "source": [
    "from dotenv import dotenv_values"
   ]
  },
  {
   "cell_type": "code",
   "execution_count": 3,
   "id": "3b630436",
   "metadata": {
    "tags": []
   },
   "outputs": [],
   "source": [
    "config = dotenv_values(\".env\")"
   ]
  },
  {
   "cell_type": "code",
   "execution_count": 4,
   "id": "b3cb65c7",
   "metadata": {
    "tags": []
   },
   "outputs": [],
   "source": [
    "openai.api_key = config[\"OPENAI_API_KEY\"]"
   ]
  },
  {
   "cell_type": "code",
   "execution_count": 10,
   "id": "88b817b3",
   "metadata": {
    "tags": []
   },
   "outputs": [
    {
     "data": {
      "text/plain": [
       "<OpenAIObject text_completion id=cmpl-76xFhJo5weW8PHWiBoG4L1ARAYo1d at 0x10bba0770> JSON: {\n",
       "  \"choices\": [\n",
       "    {\n",
       "      \"finish_reason\": \"stop\",\n",
       "      \"index\": 0,\n",
       "      \"logprobs\": null,\n",
       "      \"text\": \"\\n\\nQ: What did the skeleton say to the vampire?\\n\\nA: \\\"You suck!\\\"\"\n",
       "    },\n",
       "    {\n",
       "      \"finish_reason\": \"stop\",\n",
       "      \"index\": 1,\n",
       "      \"logprobs\": null,\n",
       "      \"text\": \"\\n\\nQ: What did the pirate say when he died?\\nA: \\\"Ahhh, shiver me timbers!\\\"\"\n",
       "    },\n",
       "    {\n",
       "      \"finish_reason\": \"stop\",\n",
       "      \"index\": 2,\n",
       "      \"logprobs\": null,\n",
       "      \"text\": \"\\n\\nQ: What did the Grim Reaper say when he took a break?\\nA: Time of death.\"\n",
       "    }\n",
       "  ],\n",
       "  \"created\": 1681892089,\n",
       "  \"id\": \"cmpl-76xFhJo5weW8PHWiBoG4L1ARAYo1d\",\n",
       "  \"model\": \"text-davinci-003\",\n",
       "  \"object\": \"text_completion\",\n",
       "  \"usage\": {\n",
       "    \"completion_tokens\": 70,\n",
       "    \"prompt_tokens\": 6,\n",
       "    \"total_tokens\": 76\n",
       "  }\n",
       "}"
      ]
     },
     "execution_count": 10,
     "metadata": {},
     "output_type": "execute_result"
    }
   ],
   "source": [
    "openai.Completion.create(\n",
    "    model=\"text-davinci-003\",\n",
    "    prompt=\"Tell me a joke about death\",\n",
    "    max_tokens=100,\n",
    "    n=3\n",
    ")"
   ]
  },
  {
   "cell_type": "code",
   "execution_count": 11,
   "id": "644044f3",
   "metadata": {
    "tags": []
   },
   "outputs": [
    {
     "data": {
      "text/plain": [
       "<OpenAIObject text_completion id=cmpl-76xK56kPiOEP0NI2X08UHLcblEr2w at 0x10bba0dd0> JSON: {\n",
       "  \"choices\": [\n",
       "    {\n",
       "      \"finish_reason\": \"stop\",\n",
       "      \"index\": 0,\n",
       "      \"logprobs\": null,\n",
       "      \"text\": \"\\n\\nA: The Burj Khalifa in Dubai, United Arab Emirates is currently the tallest building in the world. It stands at 828 meters (2,717 feet) tall.\"\n",
       "    }\n",
       "  ],\n",
       "  \"created\": 1681892361,\n",
       "  \"id\": \"cmpl-76xK56kPiOEP0NI2X08UHLcblEr2w\",\n",
       "  \"model\": \"text-davinci-003\",\n",
       "  \"object\": \"text_completion\",\n",
       "  \"usage\": {\n",
       "    \"completion_tokens\": 39,\n",
       "    \"prompt_tokens\": 11,\n",
       "    \"total_tokens\": 50\n",
       "  }\n",
       "}"
      ]
     },
     "execution_count": 11,
     "metadata": {},
     "output_type": "execute_result"
    }
   ],
   "source": [
    "openai.Completion.create(\n",
    "    model=\"text-davinci-003\",\n",
    "    prompt=\"Q: What is the tallest building in the world?\",\n",
    "    max_tokens=100,\n",
    "#     echo=True\n",
    ")"
   ]
  },
  {
   "cell_type": "code",
   "execution_count": 12,
   "id": "9a4fc8b0",
   "metadata": {
    "tags": []
   },
   "outputs": [
    {
     "data": {
      "text/plain": [
       "<OpenAIObject text_completion id=cmpl-76xKD2z6aAiX1KMgtFQwtj8FB4iRo at 0x10bba04d0> JSON: {\n",
       "  \"choices\": [\n",
       "    {\n",
       "      \"finish_reason\": \"stop\",\n",
       "      \"index\": 0,\n",
       "      \"logprobs\": null,\n",
       "      \"text\": \"\\n\\nGreen.\"\n",
       "    }\n",
       "  ],\n",
       "  \"created\": 1681892369,\n",
       "  \"id\": \"cmpl-76xKD2z6aAiX1KMgtFQwtj8FB4iRo\",\n",
       "  \"model\": \"text-davinci-003\",\n",
       "  \"object\": \"text_completion\",\n",
       "  \"usage\": {\n",
       "    \"completion_tokens\": 4,\n",
       "    \"prompt_tokens\": 15,\n",
       "    \"total_tokens\": 19\n",
       "  }\n",
       "}"
      ]
     },
     "execution_count": 12,
     "metadata": {},
     "output_type": "execute_result"
    }
   ],
   "source": [
    "openai.Completion.create(\n",
    "    model=\"text-davinci-003\",\n",
    "    prompt=\"In a single word, what is the color of a pickle? \",\n",
    "    max_tokens=100,\n",
    "#     echo=True\n",
    ")"
   ]
  },
  {
   "cell_type": "code",
   "execution_count": 13,
   "id": "04bdf334",
   "metadata": {
    "tags": []
   },
   "outputs": [
    {
     "data": {
      "text/plain": [
       "<OpenAIObject text_completion id=cmpl-76xKICgAG0es0kBH5bljRyFoGDOkD at 0x10bba1a90> JSON: {\n",
       "  \"choices\": [\n",
       "    {\n",
       "      \"finish_reason\": \"stop\",\n",
       "      \"index\": 0,\n",
       "      \"logprobs\": null,\n",
       "      \"text\": \"In a single word, what is the color of a pickle? \\nGreen.\"\n",
       "    }\n",
       "  ],\n",
       "  \"created\": 1681892374,\n",
       "  \"id\": \"cmpl-76xKICgAG0es0kBH5bljRyFoGDOkD\",\n",
       "  \"model\": \"text-davinci-003\",\n",
       "  \"object\": \"text_completion\",\n",
       "  \"usage\": {\n",
       "    \"completion_tokens\": 3,\n",
       "    \"prompt_tokens\": 15,\n",
       "    \"total_tokens\": 18\n",
       "  }\n",
       "}"
      ]
     },
     "execution_count": 13,
     "metadata": {},
     "output_type": "execute_result"
    }
   ],
   "source": [
    "openai.Completion.create(\n",
    "    model=\"text-davinci-003\",\n",
    "    prompt=\"In a single word, what is the color of a pickle? \",\n",
    "    max_tokens=100,\n",
    "    echo=True\n",
    ")"
   ]
  },
  {
   "cell_type": "code",
   "execution_count": null,
   "id": "3ea8fde2",
   "metadata": {},
   "outputs": [],
   "source": []
  }
 ],
 "metadata": {
  "kernelspec": {
   "display_name": "Python 3 (ipykernel)",
   "language": "python",
   "name": "python3"
  },
  "language_info": {
   "codemirror_mode": {
    "name": "ipython",
    "version": 3
   },
   "file_extension": ".py",
   "mimetype": "text/x-python",
   "name": "python",
   "nbconvert_exporter": "python",
   "pygments_lexer": "ipython3",
   "version": "3.11.3"
  }
 },
 "nbformat": 4,
 "nbformat_minor": 5
}
