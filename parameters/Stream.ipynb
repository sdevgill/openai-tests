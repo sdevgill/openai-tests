{
 "cells": [
  {
   "cell_type": "code",
   "execution_count": 1,
   "id": "39d7ac80",
   "metadata": {},
   "outputs": [],
   "source": [
    "import openai"
   ]
  },
  {
   "cell_type": "code",
   "execution_count": 2,
   "id": "96de38cc",
   "metadata": {},
   "outputs": [],
   "source": [
    "from dotenv import dotenv_values"
   ]
  },
  {
   "cell_type": "code",
   "execution_count": 8,
   "id": "3b630436",
   "metadata": {},
   "outputs": [],
   "source": [
    "config = dotenv_values(\".env\")"
   ]
  },
  {
   "cell_type": "code",
   "execution_count": 9,
   "id": "b3cb65c7",
   "metadata": {},
   "outputs": [],
   "source": [
    "openai.api_key = config[\"OPENAI_API_KEY\"]"
   ]
  },
  {
   "cell_type": "code",
   "execution_count": 32,
   "id": "ec3e0d35",
   "metadata": {},
   "outputs": [
    {
     "name": "stdout",
     "output_type": "stream",
     "text": [
      "\n",
      "\n",
      "The morning fog is thick and still,\n",
      "The day is dark and quiet, chill.\n",
      "A dormant search for shadows play,\n",
      "Distorted by the fog it lay.\n",
      "\n",
      "I drive down the empty road,\n",
      "My headlight sifting through the fog like snow.\n",
      "The streetlamp glows for me,\n",
      "Illuminating my sight so I can see.\n",
      "\n",
      "The morning air is still and sweet,\n",
      "The only sound - the hum of my car's engine beat.\n",
      "I drive on forward as the sun begins to rise,\n",
      "Trying to break through the darkness and surprise.\n",
      "\n",
      "As I make my morning commute,\n",
      "The fog starts to lift - I hope it'll be over soon.\n",
      "The wind starts to blow and stir the air,\n",
      "Releasing me from the fog's stare.\n",
      "\n",
      "The sun begins to shine through the mist,\n",
      "Giving me a ray of hope that I won't miss.\n",
      "The morning fog starts to disperse,\n",
      "Leaving me to fulfill my mission - my daily curse."
     ]
    }
   ],
   "source": [
    "for data in openai.Completion.create(\n",
    "    model=\"text-davinci-003\",\n",
    "    prompt=\"write me a poem about foggy morning commutes\",\n",
    "    max_tokens=300,\n",
    "    stream=True\n",
    "):\n",
    "    print(data.choices[0].text, end=\"\", flush=True)"
   ]
  },
  {
   "cell_type": "code",
   "execution_count": 33,
   "id": "55591a0e",
   "metadata": {},
   "outputs": [
    {
     "name": "stdout",
     "output_type": "stream",
     "text": [
      "In search of the treasure so grand,\n",
      "The One Piece, sought by many lands,\n",
      "Luffy and his crew, a rowdy band,\n",
      "Sailing the seas, with swords in hand,\n",
      "Adventure awaits, in the palm of their hands.\n"
     ]
    }
   ],
   "source": [
    "response = openai.ChatCompletion.create(\n",
    "    model=\"gpt-3.5-turbo\",\n",
    "    messages=[\n",
    "        {\"role\": \"system\", \"content\": \"You are a helpful assistant that creates funny poems\"},\n",
    "        {\"role\": \"user\", \"content\": \"Generate me a 5 line poem about the One Piece.\"}\n",
    "    ],\n",
    "    temperature=0.9,\n",
    "    max_tokens=200\n",
    ")\n",
    "\n",
    "print(response[\"choices\"][0][\"message\"][\"content\"])"
   ]
  },
  {
   "cell_type": "code",
   "execution_count": 39,
   "id": "a53b6700",
   "metadata": {},
   "outputs": [
    {
     "name": "stdout",
     "output_type": "stream",
     "text": [
      "Ahoy there matey, let me tell you a tale\n",
      "Of a pirate crew that never seems to fail\n",
      "They search for the One Piece, a treasure untold\n",
      "But with enemies abound, their journey is bold\n",
      "So raise the Jolly Roger, and go on with the show!\n",
      "Poem 1:\n",
      "Ahoy there matey, let me tell you a tale\n",
      "Of a pirate crew that never seems to fail\n",
      "They search for the One Piece, a treasure untold\n",
      "But with enemies abound, their journey is bold\n",
      "So raise the Jolly Roger, and go on with the show!\n",
      "=================================\n",
      "Sailing the Grand Line with a pirate's heart\n",
      "Luffy and his crew, ready to depart\n",
      "From the sunny shores of East Blue\n",
      "To the depths of the ocean so blue\n",
      "The One Piece awaits, a dream come true!\n",
      "Poem 2:\n",
      "Sailing the Grand Line with a pirate's heart\n",
      "Luffy and his crew, ready to depart\n",
      "From the sunny shores of East Blue\n",
      "To the depths of the ocean so blue\n",
      "The One Piece awaits, a dream come true!\n",
      "=================================\n"
     ]
    }
   ],
   "source": [
    "messages = [\n",
    "    {\"role\": \"system\", \"content\": \"You are a helpful assistant that creates funny poems\"}\n",
    "]\n",
    "\n",
    "for i in range(2):\n",
    "    user_message = {\"role\": \"user\", \"content\": f\"Generate me a 5 line poem about the One Piece {i + 1}\"}\n",
    "    messages.append(user_message)\n",
    "\n",
    "    response = openai.ChatCompletion.create(\n",
    "        model=\"gpt-3.5-turbo\",\n",
    "        messages=messages,\n",
    "        temperature=0.9,\n",
    "        max_tokens=400,\n",
    "        stream=True\n",
    "    )\n",
    "\n",
    "    # poem = response[\"choices\"][0][\"message\"][\"content\"]\n",
    "    # print(f\"Poem {i + 1}:\")\n",
    "    # print(poem, flush=True)\n",
    "    # print(\"=================================\")\n",
    "\n",
    "    # messages.append({\"role\": \"assistant\", \"content\": poem})\n",
    "\n",
    "    poem = \"\"\n",
    "    for event in response:\n",
    "        event_text = event['choices'][0]['delta'].get('content', '')\n",
    "        poem += event_text\n",
    "        print(event_text, end='', flush=True)  # Add the flush=True option\n",
    "\n",
    "    print(f\"\\nPoem {i + 1}:\")\n",
    "    print(poem)\n",
    "    print(\"=================================\")\n",
    "\n",
    "    messages.append({\"role\": \"assistant\", \"content\": poem})\n"
   ]
  }
 ],
 "metadata": {
  "kernelspec": {
   "display_name": "Python 3",
   "language": "python",
   "name": "python3"
  },
  "language_info": {
   "codemirror_mode": {
    "name": "ipython",
    "version": 3
   },
   "file_extension": ".py",
   "mimetype": "text/x-python",
   "name": "python",
   "nbconvert_exporter": "python",
   "pygments_lexer": "ipython3",
   "version": "3.11.3"
  }
 },
 "nbformat": 4,
 "nbformat_minor": 5
}
